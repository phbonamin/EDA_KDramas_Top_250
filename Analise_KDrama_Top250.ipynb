{
 "cells": [
  {
   "cell_type": "markdown",
   "id": "6ea4a46d",
   "metadata": {},
   "source": [
    "# Introdução\n",
    "\n",
    "O Objetivo dessa análise é responder algumas questões relacionadas aos  250 dramas coreanos(kdrama) mais bem classificados segundo a <a href = \"https://mydramalist.com\"> MyDramaList </a>.\n",
    "\n",
    "Para a mesma foi utilizado o dataset disponível no Kaggle.\n",
    "\n",
    "Clique <a href  = \"https://www.kaggle.com/datasets/ahbab911/top-250-korean-dramas-kdrama-dataset\" >aqui</a> para acessá-lo.\n",
    "\n",
    "Vamos tentar responder as seguintes questões: \n",
    "-  Quais são os possiveis fatores que influenciam a classificação das séries?\n",
    "-  Quais são os genêros mais frequentes?\n",
    "-  O tempo de cada episódio e números de episódios seguem alguma tendência?\n",
    "\n",
    "As tecnologias que utiliziaremos nessa análise são:\n",
    "\n",
    "Python (Pandas, NumPy, Plotly)."
   ]
  }
 ],
 "metadata": {
  "kernelspec": {
   "display_name": "Python 3 (ipykernel)",
   "language": "python",
   "name": "python3"
  },
  "language_info": {
   "codemirror_mode": {
    "name": "ipython",
    "version": 3
   },
   "file_extension": ".py",
   "mimetype": "text/x-python",
   "name": "python",
   "nbconvert_exporter": "python",
   "pygments_lexer": "ipython3",
   "version": "3.10.6"
  }
 },
 "nbformat": 4,
 "nbformat_minor": 5
}
